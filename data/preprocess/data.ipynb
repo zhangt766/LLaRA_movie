{
 "cells": [
  {
   "cell_type": "code",
   "execution_count": 2,
   "metadata": {},
   "outputs": [],
   "source": [
    "import pandas as pd"
   ]
  },
  {
   "cell_type": "code",
   "execution_count": 4,
   "metadata": {},
   "outputs": [
    {
     "name": "stdout",
     "output_type": "stream",
     "text": [
      "                                                     seq  len_seq  next\n",
      "0      [4606, 4606, 4606, 4606, 4606, 4606, 4606, 460...        1     0\n",
      "1      [0, 4606, 4606, 4606, 4606, 4606, 4606, 4606, ...        1     1\n",
      "2      [0, 1, 4606, 4606, 4606, 4606, 4606, 4606, 460...        2     2\n",
      "3      [0, 1, 2, 4606, 4606, 4606, 4606, 4606, 4606, ...        3     3\n",
      "4       [0, 1, 2, 3, 4606, 4606, 4606, 4606, 4606, 4606]        4     4\n",
      "...                                                  ...      ...   ...\n",
      "50795  [2352, 3410, 4441, 3495, 4512, 1091, 4399, 327...       10  4454\n",
      "50796  [3410, 4441, 3495, 4512, 1091, 4399, 3276, 114...       10  4534\n",
      "50797  [4441, 3495, 4512, 1091, 4399, 3276, 1145, 389...       10  3761\n",
      "50798  [3495, 4512, 1091, 4399, 3276, 1145, 3894, 445...       10  1181\n",
      "50799  [4512, 1091, 4399, 3276, 1145, 3894, 4454, 453...       10  3916\n",
      "\n",
      "[50800 rows x 3 columns]\n"
     ]
    }
   ],
   "source": [
    "data = pd.read_pickle(\"/workspace/LLaRA/data/ref/lastfm/train_data.df\")\n",
    "print(data)"
   ]
  },
  {
   "cell_type": "code",
   "execution_count": 5,
   "metadata": {},
   "outputs": [
    {
     "name": "stdout",
     "output_type": "stream",
     "text": [
      "[4606, 4606, 4606, 4606, 4606, 4606, 4606, 4606, 4606, 4606]\n",
      "[0, 1, 4606, 4606, 4606, 4606, 4606, 4606, 4606, 4606]\n",
      "[4512, 1091, 4399, 3276, 1145, 3894, 4454, 4534, 3761, 1181]\n"
     ]
    }
   ],
   "source": [
    "print(data[\"seq\"][0])\n",
    "print(data[\"seq\"][2])\n",
    "print(data[\"seq\"][50799])"
   ]
  },
  {
   "cell_type": "code",
   "execution_count": null,
   "metadata": {},
   "outputs": [],
   "source": []
  }
 ],
 "metadata": {
  "kernelspec": {
   "display_name": "Python 3 (ipykernel)",
   "language": "python",
   "name": "python3"
  },
  "language_info": {
   "codemirror_mode": {
    "name": "ipython",
    "version": 3
   },
   "file_extension": ".py",
   "mimetype": "text/x-python",
   "name": "python",
   "nbconvert_exporter": "python",
   "pygments_lexer": "ipython3",
   "version": "3.10.9"
  },
  "vscode": {
   "interpreter": {
    "hash": "31f2aee4e71d21fbe5cf8b01ff0e069b9275f58929596ceb00d14d90e3e16cd6"
   }
  }
 },
 "nbformat": 4,
 "nbformat_minor": 4
}
